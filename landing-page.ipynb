{
 "cells": [
  {
   "cell_type": "markdown",
   "metadata": {},
   "source": [
    "# Welcome to the Generic Mapping Tools!"
   ]
  },
  {
   "cell_type": "markdown",
   "metadata": {},
   "source": [
    "<img style=\"float: right;\" src=\"https://www.generic-mapping-tools.org/_static/gmt-logo.png\" alt=\"GMT logo\" width=\"250\"/>\n",
    "\n",
    "GMT is an open-source collection of command-line tools for manipulating geographic and Cartesian data sets (including filtering, trend fitting, gridding, projecting, etc.) and producing high-quality illustrations ranging from simple x–y plots via contour maps to artificially illuminated surfaces and 3D perspective views. It supports many map projections and transformations and includes supporting data such as coastlines, rivers, and political boundaries and optionally country polygons."
   ]
  },
  {
   "cell_type": "markdown",
   "metadata": {},
   "source": [
    "## Try GMT, PyGMT, and GMT.jl online"
   ]
  },
  {
   "cell_type": "markdown",
   "metadata": {},
   "source": [
    "This Jupyter lab environment has the latest GMT, PyGMT, and GMT.jl installed. \n",
    "\n",
    "You can try them **all in one place** with no extra install required. \n",
    "\n",
    "- [Run GMT command in bash](./bash-demo.ipynb)\n",
    "- [Try PyGMT online](./python-demo.ipynb)\n",
    "- [Try GMT.jl online](./julia-demo.ipynb)"
   ]
  },
  {
   "cell_type": "markdown",
   "metadata": {},
   "source": [
    "## Learning Resources"
   ]
  },
  {
   "cell_type": "markdown",
   "metadata": {},
   "source": [
    "- GMT website: https://www.generic-mapping-tools.org/\n",
    "- GMT documentation: https://docs.generic-mapping-tools.org/\n",
    "- GMT Community Forum: https://forum.generic-mapping-tools.org/\n",
    "- PyGMT website: https://www.pygmt.org/\n",
    "- GMT.jl website: https://www.generic-mapping-tools.org/GMT.jl/\n"
   ]
  }
 ],
 "metadata": {
  "kernelspec": {
   "display_name": "Python 3",
   "language": "python",
   "name": "python3"
  },
  "language_info": {
   "codemirror_mode": {
    "name": "ipython",
    "version": 3
   },
   "file_extension": ".py",
   "mimetype": "text/x-python",
   "name": "python",
   "nbconvert_exporter": "python",
   "pygments_lexer": "ipython3",
   "version": "3.7.6"
  }
 },
 "nbformat": 4,
 "nbformat_minor": 4
}
